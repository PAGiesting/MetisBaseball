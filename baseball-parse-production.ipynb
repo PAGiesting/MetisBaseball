{
 "cells": [
  {
   "cell_type": "code",
   "execution_count": 1,
   "metadata": {},
   "outputs": [],
   "source": [
    "from bs4 import BeautifulSoup as bs\n",
    "import pickle\n",
    "import pandas as pd\n",
    "import numpy as np"
   ]
  },
  {
   "cell_type": "code",
   "execution_count": 2,
   "metadata": {},
   "outputs": [
    {
     "data": {
      "text/plain": [
       "119"
      ]
     },
     "execution_count": 2,
     "metadata": {},
     "output_type": "execute_result"
    }
   ],
   "source": [
    "with open('baseball_data.pkl','rb') as cellar:\n",
    "    season_html = pickle.load(cellar)\n",
    "len(season_html)"
   ]
  },
  {
   "cell_type": "code",
   "execution_count": 3,
   "metadata": {},
   "outputs": [
    {
     "data": {
      "text/plain": [
       "list"
      ]
     },
     "execution_count": 3,
     "metadata": {},
     "output_type": "execute_result"
    }
   ],
   "source": [
    "type(season_html)"
   ]
  },
  {
   "cell_type": "markdown",
   "metadata": {},
   "source": [
    "These pages are so incredibly gross. I've scraped a lot of pig shit (literally) in my life, and I prefer that to this.\n",
    "\n",
    "The tables of interest have these headers:\n",
    "* MLB Detailed Standings\n",
    "* Team Standard Batting\n",
    "* Team Standard Pitching\n",
    "* MLB Wins Above Avg By Position\n",
    "* Team Fielding\n",
    "\n",
    "I envision a dataframe storing the league summary for each statistic (columns) by year (rows). I envisioned a numpy array of three dimensions storing data by team (thickness...). However, I suspect a better approach would be to create a dictionary of dataframes, one for each team. baseball-reference uses a three letter code for each team, although it does change when a franchise moves. I don't anticipate this being a problem, and the number of moves is not so overpowering as to prevent concatenating the dataframes into single entries later if I thought it useful."
   ]
  },
  {
   "cell_type": "code",
   "execution_count": 4,
   "metadata": {},
   "outputs": [
    {
     "data": {
      "text/plain": [
       "70486"
      ]
     },
     "execution_count": 4,
     "metadata": {},
     "output_type": "execute_result"
    }
   ],
   "source": [
    "season_html[0].text.find('MLB  Detailed Standings')"
   ]
  },
  {
   "cell_type": "code",
   "execution_count": 5,
   "metadata": {},
   "outputs": [],
   "source": [
    "# set up a dictionary to call seasons by number\n",
    "# first year is 1901\n",
    "# format data via BeautifulSoup\n",
    "season_soup = {}\n",
    "for i, season in enumerate(season_html):\n",
    "    cleaned_text = season.text.replace(\"<!--\",\"\").replace(\"-->\",\"\")\n",
    "    season_soup[1901+i] = bs(cleaned_text)"
   ]
  },
  {
   "cell_type": "code",
   "execution_count": 6,
   "metadata": {},
   "outputs": [
    {
     "data": {
      "text/plain": [
       "<a href=\"https://www.sports-reference.com/\"><svg height=\"15px\" width=\"20px\"><use xlink:href=\"#ic-sr-pennant\"></use></svg> Sports Reference</a>"
      ]
     },
     "execution_count": 6,
     "metadata": {},
     "output_type": "execute_result"
    }
   ],
   "source": [
    "season_soup[1982].find('a')"
   ]
  },
  {
   "cell_type": "markdown",
   "metadata": {},
   "source": [
    "The analysis I want to conduct is time-based, so I want to have dataframes for the big leagues as a whole, maybe the individual leagues, and the individual teams where the stats are columns and the row index is years.\n",
    "\n",
    "In order to get there, I can start by taking the data the way it comes, individual years of data with tables (dataframes) for standings/team record, batting, pitching, WAR, fielding. I can groupby league on these tables to get summary data rather than reading in the separate league pages... and in fact I can neglect this entirely for now.\n",
    "\n",
    "Let's tinker with the first table and start building up a dictionary of dictionaries where the top level key is the year / season and the second level key is the table caption."
   ]
  },
  {
   "cell_type": "code",
   "execution_count": 7,
   "metadata": {},
   "outputs": [
    {
     "name": "stdout",
     "output_type": "stream",
     "text": [
      "MLB  Detailed Standings\n"
     ]
    }
   ],
   "source": [
    "print(season_soup[1901].find('table').find('caption').text)"
   ]
  },
  {
   "cell_type": "code",
   "execution_count": 8,
   "metadata": {},
   "outputs": [
    {
     "name": "stdout",
     "output_type": "stream",
     "text": [
      "MLB  Detailed Standings\n",
      "Team Standard Batting Table\n",
      "Team Standard Pitching Table\n",
      "MLB Wins Above Avg By Position Table\n",
      "Team Fielding Table\n"
     ]
    }
   ],
   "source": [
    "for table in season_soup[1901].find_all('table'):\n",
    "    print(table.find('caption').text)"
   ]
  },
  {
   "cell_type": "markdown",
   "metadata": {},
   "source": [
    "Bingo. Once I stop botching it, Joe's code saves the day. Huzzah for Python string library routines."
   ]
  },
  {
   "cell_type": "code",
   "execution_count": 9,
   "metadata": {},
   "outputs": [
    {
     "name": "stdout",
     "output_type": "stream",
     "text": [
      "dict_keys([1901, 1902, 1903, 1904, 1905, 1906, 1907, 1908, 1909, 1910, 1911, 1912, 1913, 1914, 1915, 1916, 1917, 1918, 1919, 1920, 1921, 1922, 1923, 1924, 1925, 1926, 1927, 1928, 1929, 1930, 1931, 1932, 1933, 1934, 1935, 1936, 1937, 1938, 1939, 1940, 1941, 1942, 1943, 1944, 1945, 1946, 1947, 1948, 1949, 1950, 1951, 1952, 1953, 1954, 1955, 1956, 1957, 1958, 1959, 1960, 1961, 1962, 1963, 1964, 1965, 1966, 1967, 1968, 1969, 1970, 1971, 1972, 1973, 1974, 1975, 1976, 1977, 1978, 1979, 1980, 1981, 1982, 1983, 1984, 1985, 1986, 1987, 1988, 1989, 1990, 1991, 1992, 1993, 1994, 1995, 1996, 1997, 1998, 1999, 2000, 2001, 2002, 2003, 2004, 2005, 2006, 2007, 2008, 2009, 2010, 2011, 2012, 2013, 2014, 2015, 2016, 2017, 2018, 2019])\n"
     ]
    }
   ],
   "source": [
    "season_dict={}\n",
    "for year, season in season_soup.items():\n",
    "    season_dict[year]={}\n",
    "    for table in season.find_all('table'):\n",
    "        if table.find('caption').text in ['Postseason',\n",
    "                                          'MLB  Detailed Standings',\n",
    "                                          'MLB Wins Above Avg By Position Table']:\n",
    "            continue\n",
    "        list_holder = []\n",
    "        rows = table.find_all('tr')\n",
    "        columns = [thing.text for thing in rows[0].find_all('th')]\n",
    "        rows.pop(0)\n",
    "        # The last row is blank.\n",
    "        rows.pop(-1)\n",
    "        for team in rows:\n",
    "            row = [team.find('th').text]\n",
    "            for thing in team.find_all('td'):\n",
    "                row.append(thing.text)\n",
    "            list_holder.append(row)\n",
    "        df = pd.DataFrame(list_holder,columns=columns)\n",
    "        # I want to be able to call by team abbreviation\n",
    "        # rather than boolean indexing below\n",
    "        df.set_index('Tm',inplace=True)\n",
    "        season_dict[year][table.find('caption').text] = df\n",
    "print(season_dict.keys())"
   ]
  },
  {
   "cell_type": "code",
   "execution_count": 10,
   "metadata": {},
   "outputs": [
    {
     "name": "stdout",
     "output_type": "stream",
     "text": [
      "dict_keys(['Team Standard Batting Table', 'Team Standard Pitching Table', 'Team Fielding Table'])\n"
     ]
    }
   ],
   "source": [
    "print(season_dict[1968].keys())"
   ]
  },
  {
   "cell_type": "code",
   "execution_count": 11,
   "metadata": {},
   "outputs": [
    {
     "name": "stdout",
     "output_type": "stream",
     "text": [
      "dict_keys(['Team Standard Batting Table', 'Team Standard Pitching Table', 'Team Fielding Table'])\n"
     ]
    }
   ],
   "source": [
    "print(season_dict[1969].keys())"
   ]
  },
  {
   "cell_type": "code",
   "execution_count": 12,
   "metadata": {},
   "outputs": [
    {
     "name": "stdout",
     "output_type": "stream",
     "text": [
      "Index(['#Bat', 'BatAge', 'R/G', 'G', 'PA', 'AB', 'R', 'H', '2B', '3B', 'HR',\n",
      "       'RBI', 'SB', 'CS', 'BB', 'SO', 'BA', 'OBP', 'SLG', 'OPS', 'OPS+', 'TB',\n",
      "       'GDP', 'HBP', 'SH', 'SF', 'IBB', 'LOB'],\n",
      "      dtype='object')\n"
     ]
    }
   ],
   "source": [
    "print(season_dict[2017]['Team Standard Batting Table'].columns)"
   ]
  },
  {
   "cell_type": "code",
   "execution_count": 13,
   "metadata": {},
   "outputs": [
    {
     "data": {
      "text/html": [
       "<div>\n",
       "<style scoped>\n",
       "    .dataframe tbody tr th:only-of-type {\n",
       "        vertical-align: middle;\n",
       "    }\n",
       "\n",
       "    .dataframe tbody tr th {\n",
       "        vertical-align: top;\n",
       "    }\n",
       "\n",
       "    .dataframe thead th {\n",
       "        text-align: right;\n",
       "    }\n",
       "</style>\n",
       "<table border=\"1\" class=\"dataframe\">\n",
       "  <thead>\n",
       "    <tr style=\"text-align: right;\">\n",
       "      <th></th>\n",
       "      <th>#Bat</th>\n",
       "      <th>BatAge</th>\n",
       "      <th>R/G</th>\n",
       "      <th>G</th>\n",
       "      <th>PA</th>\n",
       "      <th>AB</th>\n",
       "      <th>R</th>\n",
       "      <th>H</th>\n",
       "      <th>2B</th>\n",
       "      <th>3B</th>\n",
       "      <th>...</th>\n",
       "      <th>SLG</th>\n",
       "      <th>OPS</th>\n",
       "      <th>OPS+</th>\n",
       "      <th>TB</th>\n",
       "      <th>GDP</th>\n",
       "      <th>HBP</th>\n",
       "      <th>SH</th>\n",
       "      <th>SF</th>\n",
       "      <th>IBB</th>\n",
       "      <th>LOB</th>\n",
       "    </tr>\n",
       "    <tr>\n",
       "      <th>Tm</th>\n",
       "      <th></th>\n",
       "      <th></th>\n",
       "      <th></th>\n",
       "      <th></th>\n",
       "      <th></th>\n",
       "      <th></th>\n",
       "      <th></th>\n",
       "      <th></th>\n",
       "      <th></th>\n",
       "      <th></th>\n",
       "      <th></th>\n",
       "      <th></th>\n",
       "      <th></th>\n",
       "      <th></th>\n",
       "      <th></th>\n",
       "      <th></th>\n",
       "      <th></th>\n",
       "      <th></th>\n",
       "      <th></th>\n",
       "      <th></th>\n",
       "      <th></th>\n",
       "    </tr>\n",
       "  </thead>\n",
       "  <tbody>\n",
       "    <tr>\n",
       "      <th>ARI</th>\n",
       "      <td>45</td>\n",
       "      <td>28.3</td>\n",
       "      <td>5.01</td>\n",
       "      <td>162</td>\n",
       "      <td>6224</td>\n",
       "      <td>5525</td>\n",
       "      <td>812</td>\n",
       "      <td>1405</td>\n",
       "      <td>314</td>\n",
       "      <td>39</td>\n",
       "      <td>...</td>\n",
       "      <td>.445</td>\n",
       "      <td>.774</td>\n",
       "      <td>94</td>\n",
       "      <td>2457</td>\n",
       "      <td>106</td>\n",
       "      <td>54</td>\n",
       "      <td>39</td>\n",
       "      <td>27</td>\n",
       "      <td>44</td>\n",
       "      <td>1118</td>\n",
       "    </tr>\n",
       "    <tr>\n",
       "      <th>ATL</th>\n",
       "      <td>49</td>\n",
       "      <td>28.7</td>\n",
       "      <td>4.52</td>\n",
       "      <td>162</td>\n",
       "      <td>6216</td>\n",
       "      <td>5584</td>\n",
       "      <td>732</td>\n",
       "      <td>1467</td>\n",
       "      <td>289</td>\n",
       "      <td>26</td>\n",
       "      <td>...</td>\n",
       "      <td>.412</td>\n",
       "      <td>.738</td>\n",
       "      <td>92</td>\n",
       "      <td>2303</td>\n",
       "      <td>137</td>\n",
       "      <td>66</td>\n",
       "      <td>59</td>\n",
       "      <td>32</td>\n",
       "      <td>57</td>\n",
       "      <td>1127</td>\n",
       "    </tr>\n",
       "    <tr>\n",
       "      <th>BAL</th>\n",
       "      <td>50</td>\n",
       "      <td>28.6</td>\n",
       "      <td>4.59</td>\n",
       "      <td>162</td>\n",
       "      <td>6140</td>\n",
       "      <td>5650</td>\n",
       "      <td>743</td>\n",
       "      <td>1469</td>\n",
       "      <td>269</td>\n",
       "      <td>12</td>\n",
       "      <td>...</td>\n",
       "      <td>.435</td>\n",
       "      <td>.747</td>\n",
       "      <td>100</td>\n",
       "      <td>2458</td>\n",
       "      <td>138</td>\n",
       "      <td>50</td>\n",
       "      <td>10</td>\n",
       "      <td>37</td>\n",
       "      <td>12</td>\n",
       "      <td>1041</td>\n",
       "    </tr>\n",
       "    <tr>\n",
       "      <th>BOS</th>\n",
       "      <td>49</td>\n",
       "      <td>27.3</td>\n",
       "      <td>4.85</td>\n",
       "      <td>162</td>\n",
       "      <td>6338</td>\n",
       "      <td>5669</td>\n",
       "      <td>785</td>\n",
       "      <td>1461</td>\n",
       "      <td>302</td>\n",
       "      <td>19</td>\n",
       "      <td>...</td>\n",
       "      <td>.407</td>\n",
       "      <td>.736</td>\n",
       "      <td>92</td>\n",
       "      <td>2305</td>\n",
       "      <td>141</td>\n",
       "      <td>53</td>\n",
       "      <td>9</td>\n",
       "      <td>36</td>\n",
       "      <td>48</td>\n",
       "      <td>1134</td>\n",
       "    </tr>\n",
       "    <tr>\n",
       "      <th>CHC</th>\n",
       "      <td>47</td>\n",
       "      <td>27.1</td>\n",
       "      <td>5.07</td>\n",
       "      <td>162</td>\n",
       "      <td>6283</td>\n",
       "      <td>5496</td>\n",
       "      <td>822</td>\n",
       "      <td>1402</td>\n",
       "      <td>274</td>\n",
       "      <td>29</td>\n",
       "      <td>...</td>\n",
       "      <td>.437</td>\n",
       "      <td>.775</td>\n",
       "      <td>99</td>\n",
       "      <td>2403</td>\n",
       "      <td>134</td>\n",
       "      <td>82</td>\n",
       "      <td>48</td>\n",
       "      <td>32</td>\n",
       "      <td>54</td>\n",
       "      <td>1147</td>\n",
       "    </tr>\n",
       "  </tbody>\n",
       "</table>\n",
       "<p>5 rows × 28 columns</p>\n",
       "</div>"
      ],
      "text/plain": [
       "    #Bat BatAge   R/G    G    PA    AB    R     H   2B  3B  ...   SLG   OPS  \\\n",
       "Tm                                                          ...               \n",
       "ARI   45   28.3  5.01  162  6224  5525  812  1405  314  39  ...  .445  .774   \n",
       "ATL   49   28.7  4.52  162  6216  5584  732  1467  289  26  ...  .412  .738   \n",
       "BAL   50   28.6  4.59  162  6140  5650  743  1469  269  12  ...  .435  .747   \n",
       "BOS   49   27.3  4.85  162  6338  5669  785  1461  302  19  ...  .407  .736   \n",
       "CHC   47   27.1  5.07  162  6283  5496  822  1402  274  29  ...  .437  .775   \n",
       "\n",
       "    OPS+    TB  GDP HBP  SH  SF IBB   LOB  \n",
       "Tm                                         \n",
       "ARI   94  2457  106  54  39  27  44  1118  \n",
       "ATL   92  2303  137  66  59  32  57  1127  \n",
       "BAL  100  2458  138  50  10  37  12  1041  \n",
       "BOS   92  2305  141  53   9  36  48  1134  \n",
       "CHC   99  2403  134  82  48  32  54  1147  \n",
       "\n",
       "[5 rows x 28 columns]"
      ]
     },
     "execution_count": 13,
     "metadata": {},
     "output_type": "execute_result"
    }
   ],
   "source": [
    "test_df = season_dict[2017]['Team Standard Batting Table']\n",
    "test_df.head()"
   ]
  },
  {
   "cell_type": "code",
   "execution_count": 14,
   "metadata": {},
   "outputs": [
    {
     "name": "stdout",
     "output_type": "stream",
     "text": [
      "Index(['#P', 'PAge', 'RA/G', 'W', 'L', 'W-L%', 'ERA', 'G', 'GS', 'GF', 'CG',\n",
      "       'tSho', 'cSho', 'SV', 'IP', 'H', 'R', 'ER', 'HR', 'BB', 'IBB', 'SO',\n",
      "       'HBP', 'BK', 'WP', 'BF', 'ERA+', 'FIP', 'WHIP', 'H9', 'HR9', 'BB9',\n",
      "       'SO9', 'SO/W', 'LOB'],\n",
      "      dtype='object')\n"
     ]
    }
   ],
   "source": [
    "print(season_dict[2017]['Team Standard Pitching Table'].columns)"
   ]
  },
  {
   "cell_type": "code",
   "execution_count": 15,
   "metadata": {},
   "outputs": [
    {
     "name": "stdout",
     "output_type": "stream",
     "text": [
      "Index(['#Fld', 'RA/G', 'DefEff', 'G', 'GS', 'CG', 'Inn', 'Ch', 'PO', 'A', 'E',\n",
      "       'DP', 'Fld%', 'Rtot', 'Rtot/yr', 'Rdrs', 'Rdrs/yr', 'Rgood'],\n",
      "      dtype='object')\n"
     ]
    }
   ],
   "source": [
    "print(season_dict[2017]['Team Fielding Table'].columns)"
   ]
  },
  {
   "cell_type": "markdown",
   "metadata": {},
   "source": [
    "Now that we have dataframes the way THEY want to format them, I want dataframes the way *I* want to format them.\n",
    "\n",
    "If I were being really sophisticated, I would try to dynamically allocate new columns, but that makes the loop and branch structure so absurdly complicated. Instead I will initialize the three dataframes with the 1962 column names in a separate batch of code then run through the whole dictionary and hope for the best."
   ]
  },
  {
   "cell_type": "code",
   "execution_count": 16,
   "metadata": {},
   "outputs": [],
   "source": [
    "bat_columns = list(season_dict[1962]['Team Standard Batting Table'].columns)\n",
    "pitch_columns = list(season_dict[1962]['Team Standard Pitching Table'].columns)\n",
    "field_columns = list(season_dict[1962]['Team Fielding Table'].columns)"
   ]
  },
  {
   "cell_type": "markdown",
   "metadata": {},
   "source": [
    "What I can't avoid is adding new team dataframes as teams come and go.\n",
    "\n",
    "Let me think through a workflow:\n",
    "\n",
    "New season dictionary.\n",
    "\n",
    "-- Iterate through batting, pitching, fielding dataframes:\n",
    "\n",
    "--- Iterate through each team:\n",
    "\n",
    "---- Add a new team dataframe if necessary.\n",
    "    Assign Season = [year]\n",
    "    The row of team data is the data.\n",
    "    Set Season = [year] to be the index.\n",
    "    I have the column names.\n",
    "\n",
    "---- If team already exists, append a row of stats for each team."
   ]
  },
  {
   "cell_type": "code",
   "execution_count": 17,
   "metadata": {},
   "outputs": [
    {
     "name": "stdout",
     "output_type": "stream",
     "text": [
      "     #Bat BatAge   R/G    G    PA    AB    R     H   2B  3B  ...   SLG   OPS  \\\n",
      "1962   35   27.9  4.46  162  6228  5534  723  1426  216  43  ...  .393  .719   \n",
      "\n",
      "     OPS+    TB  GDP HBP  SH  SF IBB   LOB  \n",
      "1962   93  2177  124  35  68  42  41  1154  \n",
      "\n",
      "[1 rows x 28 columns]\n"
     ]
    }
   ],
   "source": [
    "bat_dict = {}\n",
    "pitch_dict = {}\n",
    "field_dict = {}\n",
    "for key, df in season_dict[1962].items():\n",
    "    year = 1962\n",
    "    teams = list(df.index)\n",
    "    if key == 'Team Standard Batting Table':\n",
    "        for team in teams:\n",
    "            data = df.loc[team]\n",
    "            if team not in bat_dict.keys():\n",
    "                Season = [year]\n",
    "                bat_dict[team] = pd.DataFrame(data=None,index=Season,columns=bat_columns)\n",
    "            bat_dict[team].loc[year] = data\n",
    "            \n",
    "print(bat_dict['LgAvg'])"
   ]
  },
  {
   "cell_type": "code",
   "execution_count": 19,
   "metadata": {},
   "outputs": [],
   "source": [
    "bat_dict = {}\n",
    "pitch_dict = {}\n",
    "field_dict = {}\n",
    "\n",
    "for year, season_data_dict in season_dict.items():\n",
    "    for key, df in season_data_dict.items():\n",
    "        teams = list(df.index)\n",
    "        if key == 'Team Standard Batting Table':\n",
    "            for team in teams:\n",
    "                data = df.loc[team]\n",
    "                if team not in bat_dict.keys():\n",
    "                    Season = [year]\n",
    "                    bat_dict[team] = pd.DataFrame(data=None,index=Season,columns=bat_columns)\n",
    "                bat_dict[team].loc[year] = data\n",
    "        elif key == 'Team Standard Pitching Table':\n",
    "            for team in teams:\n",
    "                data = df.loc[team]\n",
    "                if team not in pitch_dict.keys():\n",
    "                    Season = [year]\n",
    "                    pitch_dict[team] = pd.DataFrame(data=None,index=Season,columns=pitch_columns)\n",
    "                pitch_dict[team].loc[year] = data\n",
    "        elif key == 'Team Fielding Table':\n",
    "            for team in teams:\n",
    "                data = df.loc[team]\n",
    "                if team not in field_dict.keys():\n",
    "                    Season = [year]\n",
    "                    field_dict[team] = pd.DataFrame(data=None,index=Season,columns=field_columns)\n",
    "                field_dict[team].loc[year] = data"
   ]
  },
  {
   "cell_type": "code",
   "execution_count": 20,
   "metadata": {},
   "outputs": [
    {
     "name": "stdout",
     "output_type": "stream",
     "text": [
      "      #P  PAge  RA/G   W   L  W-L%   ERA    G   GS  GF  ...    BF ERA+   FIP  \\\n",
      "1901   9  26.4  4.99  68  68  .500  3.49  139  139  19  ...  5219  100  3.49   \n",
      "1902  10  26.6  4.43  68  68  .500  3.17  140  139  17  ...  5160  101  3.17   \n",
      "1903   9  27.2  4.44  69  69  .500  3.11  139  139  20  ...  5102  100  3.11   \n",
      "\n",
      "       WHIP   H9  HR9  BB9  SO9  SO/W  LOB  \n",
      "1901  1.352  9.7  0.2  2.5  3.2  1.28  NaN  \n",
      "1902  1.307  9.3  0.2  2.5  3.0  1.22  NaN  \n",
      "1903  1.284  9.1  0.2  2.5  3.6  1.46  NaN  \n",
      "\n",
      "[3 rows x 35 columns]\n"
     ]
    }
   ],
   "source": [
    "print(pitch_dict['LgAvg'].head(3))"
   ]
  },
  {
   "cell_type": "code",
   "execution_count": 21,
   "metadata": {},
   "outputs": [
    {
     "name": "stdout",
     "output_type": "stream",
     "text": [
      "     #Fld  RA/G DefEff    G    GS    CG      Inn    Ch    PO     A    E   DP  \\\n",
      "1969   42  4.88   .684  162  1458  1180  12834.0  6246  4278  1784  184  179   \n",
      "1970   38  4.98   .697  162  1458  1053  12948.0  6208  4316  1751  141  193   \n",
      "1971   33  4.50   .698  162  1458  1035  12909.0  6265  4303  1812  150  164   \n",
      "\n",
      "      Fld% Rtot Rtot/yr  \n",
      "1969  .971  -53      -5  \n",
      "1970  .977   22       2  \n",
      "1971  .976    4       0  \n"
     ]
    }
   ],
   "source": [
    "print(field_dict['MON'].head(3))"
   ]
  },
  {
   "cell_type": "code",
   "execution_count": 22,
   "metadata": {},
   "outputs": [
    {
     "name": "stdout",
     "output_type": "stream",
     "text": [
      "      #Bat BatAge   R/G    G    PA    AB    R     H   2B  3B  ...   SLG   OPS  \\\n",
      "Tm                                                            ...               \n",
      "STL     25   28.8  5.58  142  5565  5039  792  1430  187  94  ...  .381  .718   \n",
      "WSH     19   28.5  4.95  138  5259  4772  683  1282  191  83  ...  .364  .690   \n",
      "LgAvg   23   28.1  4.99  139  5317  4819  692  1310  183  77  ...  .360  .686   \n",
      "\n",
      "      OPS+    TB GDP HBP   SH SF IBB LOB  \n",
      "Tm                                        \n",
      "STL    112  1922      90  122             \n",
      "WSH     92  1738      51   80             \n",
      "LgAvg   94  1733      52  105             \n",
      "\n",
      "[3 rows x 28 columns]\n"
     ]
    }
   ],
   "source": [
    "print(season_dict[1901]['Team Standard Batting Table'].tail(3))"
   ]
  },
  {
   "cell_type": "code",
   "execution_count": 23,
   "metadata": {},
   "outputs": [],
   "source": [
    "with open('batting_data.pkl','wb') as cellar:\n",
    "    pickle.dump(bat_dict, cellar)\n",
    "with open('pitching_data.pkl','wb') as cellar:\n",
    "    pickle.dump(pitch_dict, cellar)\n",
    "with open('fielding_data.pkl','wb') as cellar:\n",
    "    pickle.dump(field_dict, cellar)"
   ]
  },
  {
   "cell_type": "code",
   "execution_count": null,
   "metadata": {},
   "outputs": [],
   "source": []
  }
 ],
 "metadata": {
  "kernelspec": {
   "display_name": "Python 3",
   "language": "python",
   "name": "python3"
  },
  "language_info": {
   "codemirror_mode": {
    "name": "ipython",
    "version": 3
   },
   "file_extension": ".py",
   "mimetype": "text/x-python",
   "name": "python",
   "nbconvert_exporter": "python",
   "pygments_lexer": "ipython3",
   "version": "3.7.7"
  }
 },
 "nbformat": 4,
 "nbformat_minor": 4
}
